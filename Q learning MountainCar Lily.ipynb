{
 "cells": [
  {
   "cell_type": "markdown",
   "id": "6b0d4cb9",
   "metadata": {},
   "source": [
    "# Training MountainCar using Q-Learning algorithm"
   ]
  },
  {
   "cell_type": "markdown",
   "id": "848e2df1",
   "metadata": {},
   "source": [
    "### Mountain Car\n",
    "\n",
    "A car is on a one-dimensional track, positioned between two \"mountains\". The goal is to drive up the mountain on the right; however, the car's engine is not strong enough to scale the mountain in a single pass. Therefore, the only way to succeed is to drive back and forth to build up momentum.​"
   ]
  },
  {
   "cell_type": "markdown",
   "id": "8edb1602",
   "metadata": {},
   "source": [
    "#### Import Libraries"
   ]
  },
  {
   "cell_type": "code",
   "execution_count": 2,
   "id": "b30c90a2",
   "metadata": {},
   "outputs": [],
   "source": [
    "# import libraries\n",
    "import numpy as np \n",
    "import math\n",
    "import gym\n",
    "import matplotlib.pyplot as plt\n",
    "import warnings # This ignores all the warning messages\n",
    "warnings.filterwarnings('ignore')"
   ]
  },
  {
   "cell_type": "markdown",
   "id": "d2c657d3",
   "metadata": {},
   "source": [
    "#### Setting up the environment"
   ]
  },
  {
   "cell_type": "code",
   "execution_count": 3,
   "id": "d35c1668",
   "metadata": {},
   "outputs": [],
   "source": [
    "# our environment\n",
    "env = gym.make('MountainCar-v0')"
   ]
  },
  {
   "cell_type": "code",
   "execution_count": 3,
   "id": "89cff4a7",
   "metadata": {},
   "outputs": [
    {
     "name": "stdout",
     "output_type": "stream",
     "text": [
      "Discrete(3)\n"
     ]
    }
   ],
   "source": [
    "print(env.action_space)"
   ]
  },
  {
   "cell_type": "markdown",
   "id": "f04f281b",
   "metadata": {},
   "source": [
    "Action Space\n",
    "3 discrete actions\n",
    "[0, 1, 2]"
   ]
  },
  {
   "cell_type": "code",
   "execution_count": 4,
   "id": "494e1448",
   "metadata": {},
   "outputs": [
    {
     "name": "stdout",
     "output_type": "stream",
     "text": [
      "Box([-1.2  -0.07], [0.6  0.07], (2,), float32)\n"
     ]
    }
   ],
   "source": [
    "print(env.observation_space)"
   ]
  },
  {
   "cell_type": "markdown",
   "id": "c77ebd82",
   "metadata": {},
   "source": [
    "Observation Space (State)\n",
    "2 factors: car_position and car_velocity\n",
    "continuous variables"
   ]
  },
  {
   "cell_type": "code",
   "execution_count": 6,
   "id": "9182d55b",
   "metadata": {},
   "outputs": [],
   "source": [
    "# range of the observation space values\n",
    "posn_range = (env.observation_space.low[0], env.observation_space.high[0])\n",
    "vel_range = (env.observation_space.low[1], env.observation_space.high[1])"
   ]
  },
  {
   "cell_type": "markdown",
   "id": "6e525da2",
   "metadata": {},
   "source": [
    "#### Discretize\n",
    "\n",
    "Since the observation is continuous, we need to first convert them into discrete ones"
   ]
  },
  {
   "cell_type": "code",
   "execution_count": 7,
   "id": "32a1edbd",
   "metadata": {},
   "outputs": [],
   "source": [
    "# Discretize both factors into 15 bins\n",
    "space_posn = np.linspace(*posn_range, 15)\n",
    "space_vel = np.linspace(*vel_range, 15)\n",
    "\n",
    "def get_state(posn, vel):\n",
    "    '''\n",
    "    function that returns the indices (state) \n",
    "    of the bins to which each value in input belongs.\n",
    "    \n",
    "    :param posn: The position of the car\n",
    "    :param vel: The velocity of the car\n",
    "    :rtype: Tuple(int, int)\n",
    "    '''\n",
    "    posn_state = np.digitize(posn, space_posn)\n",
    "    vel_state = np.digitize(vel, space_vel)\n",
    "    \n",
    "    return (posn_state, vel_state)"
   ]
  },
  {
   "cell_type": "markdown",
   "id": "004062b1",
   "metadata": {},
   "source": [
    "#### Testing our environment"
   ]
  },
  {
   "cell_type": "code",
   "execution_count": 14,
   "id": "f91019e3",
   "metadata": {},
   "outputs": [
    {
     "name": "stdout",
     "output_type": "stream",
     "text": [
      "episodes: 0 reward: -200.0\n",
      "episodes: 1 reward: -200.0\n",
      "episodes: 2 reward: -200.0\n",
      "episodes: 3 reward: -200.0\n",
      "episodes: 4 reward: -200.0\n",
      "episodes: 5 reward: -200.0\n",
      "episodes: 6 reward: -200.0\n",
      "episodes: 7 reward: -200.0\n",
      "episodes: 8 reward: -200.0\n",
      "episodes: 9 reward: -200.0\n"
     ]
    }
   ],
   "source": [
    "n_episodes = 10 # run 10 epsisodes\n",
    "for e in range(n_episodes):\n",
    "    done = False\n",
    "    obs = env.reset()\n",
    "    curr_state = get_state(*obs)\n",
    "    total_reward = 0\n",
    "    while done == False:\n",
    "        env.render()\n",
    "        action = env.action_space.sample() # using random actions\n",
    "        obs_prime, reward, done, _ = env.step(action)\n",
    "        next_state = get_state(*obs_prime)\n",
    "        total_reward += reward\n",
    "    print(\"episodes:\", e, \"reward:\", total_reward)\n",
    "env.close()"
   ]
  },
  {
   "cell_type": "markdown",
   "id": "a62f236a",
   "metadata": {},
   "source": [
    "#### construct the state-action table\n",
    "\n",
    "A 3D array with dimension (observation_space, action_space). In this case: 15 x 15 x 3"
   ]
  },
  {
   "cell_type": "code",
   "execution_count": 7,
   "id": "17261090",
   "metadata": {},
   "outputs": [],
   "source": [
    "n_bins = (15, 15)\n",
    "Q_table = np.zeros(n_bins + (env.action_space.n,))"
   ]
  },
  {
   "cell_type": "markdown",
   "id": "aa5b4ba7",
   "metadata": {},
   "source": [
    "#### Define the epsilon greedy policy"
   ]
  },
  {
   "cell_type": "code",
   "execution_count": 8,
   "id": "fa57320a",
   "metadata": {},
   "outputs": [],
   "source": [
    "# the epsilon greedy policy\n",
    "def eps_greedy(Q_table, state, eps):\n",
    "    '''\n",
    "    implements the epsilon-greedy policy\n",
    "    where epsilon refers to the probability of choosing to explore, \n",
    "    we choose to exploit otherwise.\n",
    "    :return: the action the agent is going to take under state\n",
    "             based on the epsilon-greedy policy\n",
    "    :rtype: int\n",
    "    '''\n",
    "    p = np.random.random()\n",
    "    if p < eps:\n",
    "        action = env.action_space.sample() # explore\n",
    "    else:\n",
    "        action = np.argmax(Q_table[state]) # exploit\n",
    "    return action"
   ]
  },
  {
   "cell_type": "markdown",
   "id": "0a0c8ec6",
   "metadata": {},
   "source": [
    "#### Decaying Learning rate"
   ]
  },
  {
   "cell_type": "code",
   "execution_count": 9,
   "id": "d91258c9",
   "metadata": {},
   "outputs": [],
   "source": [
    "def learning_rate(n, min_rate=0.01 ):\n",
    "    '''\n",
    "    start off by a large learning rate: 1.0\n",
    "    as more episodes we train, the learning rate decays\n",
    "    minimum learning rate: 0.01\n",
    "    '''\n",
    "    \n",
    "    return max(min_rate, min(1.0, 1.0 - math.log10((n + 1) / 25)))"
   ]
  },
  {
   "cell_type": "markdown",
   "id": "bc089329",
   "metadata": {},
   "source": [
    "#### Hyperparameters"
   ]
  },
  {
   "cell_type": "code",
   "execution_count": 10,
   "id": "7caf9362",
   "metadata": {},
   "outputs": [],
   "source": [
    "n_episodes = 10000 # number of episodes\n",
    "eps = 0.3 # epsilon\n",
    "gamma = 0.99 # discount factor\n",
    "eps_decay = 0.00005 # decaying amount"
   ]
  },
  {
   "cell_type": "markdown",
   "id": "37fb3627",
   "metadata": {},
   "source": [
    "#### Q Learning Steps"
   ]
  },
  {
   "cell_type": "markdown",
   "id": "44526a90",
   "metadata": {},
   "source": [
    "Update the Q table using this formula:\n",
    "$Q(S,A) \\leftarrow Q(S,A)+ \\alpha [R+\\gamma max_a Q(S',a) - Q(S,A)]$"
   ]
  },
  {
   "cell_type": "code",
   "execution_count": 11,
   "id": "5514354a",
   "metadata": {},
   "outputs": [
    {
     "name": "stderr",
     "output_type": "stream",
     "text": [
      "2021-10-21 22:32:02.412 Python[28406:1618883] ApplePersistenceIgnoreState: Existing state will not be touched. New state will be written to /var/folders/jt/dw079v2s0dd8v0ms_szcx7n00000gn/T/org.python.python.savedState\n"
     ]
    },
    {
     "name": "stdout",
     "output_type": "stream",
     "text": [
      "episode: 1000 score: -250.0\n",
      "episode: 2000 score: -300.0\n",
      "episode: 3000 score: -233.0\n",
      "episode: 4000 score: -192.0\n",
      "episode: 5000 score: -183.0\n",
      "episode: 6000 score: -181.0\n",
      "episode: 7000 score: -240.0\n",
      "episode: 8000 score: -149.0\n",
      "episode: 9000 score: -153.0\n"
     ]
    }
   ],
   "source": [
    "score = 0\n",
    "total_reward = np.zeros(n_episodes)\n",
    "\n",
    "# Training the agent, updating the Q table\n",
    "for e in range(n_episodes):\n",
    "    \n",
    "    env._max_episode_steps = 300\n",
    "    \n",
    "    # Initialize the environment\n",
    "    current_state, done = get_state(*env.reset()), False\n",
    "    \n",
    "    # Decay the epsilon value until it reaches the threshold 0.01\n",
    "    if eps > 0.01:\n",
    "        eps -= eps_decay\n",
    "        \n",
    "    # print the score for every 1000 episodes\n",
    "    if e % 1000 == 0 and e != 0:\n",
    "        print(\"episode:\", e, \"score:\", score)\n",
    "        \n",
    "    # store the score in the total_reward table\n",
    "    total_reward[e] = score\n",
    "    \n",
    "    # reset the score\n",
    "    score = 0\n",
    "    \n",
    "    while done==False:\n",
    "        \n",
    "        # Choose action based on epsilon-greedy policy\n",
    "        action = eps_greedy(Q_table, current_state, eps) # exploit\n",
    "        \n",
    "        # Update environment\n",
    "        cts_state, reward, done, _ = env.step(action)\n",
    "        next_state = get_state(*cts_state)\n",
    "        \n",
    "        # update the score\n",
    "        score += reward\n",
    "        \n",
    "        # Update Q-Table\n",
    "        lr = learning_rate(e)\n",
    "        old_reward = Q_table[current_state][action]\n",
    "        new_reward = reward + gamma*np.max(Q_table[next_state]) - old_reward\n",
    "        Q_table[current_state][action] = old_reward + lr*new_reward\n",
    "        \n",
    "        current_state = next_state\n",
    "        \n",
    "        # Render the environment\n",
    "        env.render()"
   ]
  },
  {
   "cell_type": "markdown",
   "id": "4107db8d",
   "metadata": {},
   "source": [
    "#### Plot the Final Mean Rewards"
   ]
  },
  {
   "cell_type": "code",
   "execution_count": 12,
   "id": "9e857114",
   "metadata": {},
   "outputs": [
    {
     "data": {
      "image/png": "[encoded data removed]",
      "text/plain": [
       "<Figure size 432x288 with 1 Axes>"
      ]
     },
     "metadata": {
      "needs_background": "light"
     },
     "output_type": "display_data"
    }
   ],
   "source": [
    "mean_rewards = np.zeros(n_episodes)\n",
    "for t in range(n_episodes):\n",
    "    mean_rewards[t] = np.mean(total_reward[t:t+50]) # get the mean reward for every 50 episodes\n",
    "plt.plot(mean_rewards)\n",
    "plt.savefig('MountainCar.png') # save it to a png file"
   ]
  }
 ],
 "metadata": {
  "kernelspec": {
   "display_name": "Python 3 (ipykernel)",
   "language": "python",
   "name": "python3"
  },
  "language_info": {
   "codemirror_mode": {
    "name": "ipython",
    "version": 3
   },
   "file_extension": ".py",
   "mimetype": "text/x-python",
   "name": "python",
   "nbconvert_exporter": "python",
   "pygments_lexer": "ipython3",
   "version": "3.9.5"
  }
 },
 "nbformat": 4,
 "nbformat_minor": 5
}
